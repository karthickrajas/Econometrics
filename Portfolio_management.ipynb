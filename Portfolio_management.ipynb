{
  "nbformat": 4,
  "nbformat_minor": 0,
  "metadata": {
    "colab": {
      "provenance": [],
      "collapsed_sections": [],
      "authorship_tag": "ABX9TyOO38GLtprMg+C1pIbx5H8W",
      "include_colab_link": true
    },
    "kernelspec": {
      "name": "python3",
      "display_name": "Python 3"
    },
    "language_info": {
      "name": "python"
    }
  },
  "cells": [
    {
      "cell_type": "markdown",
      "metadata": {
        "id": "view-in-github",
        "colab_type": "text"
      },
      "source": [
        "<a href=\"https://colab.research.google.com/github/karthickrajas/Econometrics/blob/master/Portfolio_management.ipynb\" target=\"_parent\"><img src=\"https://colab.research.google.com/assets/colab-badge.svg\" alt=\"Open In Colab\"/></a>"
      ]
    },
    {
      "cell_type": "code",
      "execution_count": 43,
      "metadata": {
        "colab": {
          "base_uri": "https://localhost:8080/"
        },
        "id": "Qv7ybaGXwILT",
        "outputId": "4f894cf1-fb23-42ec-cee8-c95b0d5804b5"
      },
      "outputs": [
        {
          "output_type": "stream",
          "name": "stdout",
          "text": [
            "Looking in indexes: https://pypi.org/simple, https://us-python.pkg.dev/colab-wheels/public/simple/\n",
            "Requirement already satisfied: yfinance in /usr/local/lib/python3.7/dist-packages (0.1.81)\n",
            "Requirement already satisfied: requests>=2.26 in /usr/local/lib/python3.7/dist-packages (from yfinance) (2.28.1)\n",
            "Requirement already satisfied: numpy>=1.15 in /usr/local/lib/python3.7/dist-packages (from yfinance) (1.21.6)\n",
            "Requirement already satisfied: pandas>=0.24.0 in /usr/local/lib/python3.7/dist-packages (from yfinance) (1.3.5)\n",
            "Requirement already satisfied: multitasking>=0.0.7 in /usr/local/lib/python3.7/dist-packages (from yfinance) (0.0.11)\n",
            "Requirement already satisfied: lxml>=4.5.1 in /usr/local/lib/python3.7/dist-packages (from yfinance) (4.9.1)\n",
            "Requirement already satisfied: appdirs>=1.4.4 in /usr/local/lib/python3.7/dist-packages (from yfinance) (1.4.4)\n",
            "Requirement already satisfied: pytz>=2017.3 in /usr/local/lib/python3.7/dist-packages (from pandas>=0.24.0->yfinance) (2022.4)\n",
            "Requirement already satisfied: python-dateutil>=2.7.3 in /usr/local/lib/python3.7/dist-packages (from pandas>=0.24.0->yfinance) (2.8.2)\n",
            "Requirement already satisfied: six>=1.5 in /usr/local/lib/python3.7/dist-packages (from python-dateutil>=2.7.3->pandas>=0.24.0->yfinance) (1.15.0)\n",
            "Requirement already satisfied: charset-normalizer<3,>=2 in /usr/local/lib/python3.7/dist-packages (from requests>=2.26->yfinance) (2.1.1)\n",
            "Requirement already satisfied: urllib3<1.27,>=1.21.1 in /usr/local/lib/python3.7/dist-packages (from requests>=2.26->yfinance) (1.24.3)\n",
            "Requirement already satisfied: idna<4,>=2.5 in /usr/local/lib/python3.7/dist-packages (from requests>=2.26->yfinance) (2.10)\n",
            "Requirement already satisfied: certifi>=2017.4.17 in /usr/local/lib/python3.7/dist-packages (from requests>=2.26->yfinance) (2022.9.24)\n"
          ]
        }
      ],
      "source": [
        "# https://blog.quantinsti.com/portfolio-management-strategy-python/\n",
        "# https://towardsdatascience.com/automating-portfolio-optimization-using-python-9f344b9380b9\n",
        "# https://www.machinelearningplus.com/machine-learning/portfolio-optimization-python-example/\n",
        "# https://evgenypogorelov.com/portfolio-rebalancing-python.html\n",
        "\n",
        "!pip install yfinance\n",
        "\n",
        "import yfinance as yf\n",
        "import pandas as pd\n",
        "import numpy as np"
      ]
    },
    {
      "cell_type": "code",
      "source": [
        "!pip install PyPortfolioOpt\n",
        "\n",
        "from pypfopt.efficient_frontier import EfficientFrontier\n",
        "from pypfopt import risk_models\n",
        "from pypfopt import expected_returns\n",
        "from pypfopt.cla import CLA\n",
        "from matplotlib.ticker import FuncFormatter"
      ],
      "metadata": {
        "colab": {
          "base_uri": "https://localhost:8080/"
        },
        "id": "LqsgHfOXoyGM",
        "outputId": "13905683-ac73-437a-9b0e-9bf7c8c1f71c"
      },
      "execution_count": 5,
      "outputs": [
        {
          "output_type": "stream",
          "name": "stdout",
          "text": [
            "Looking in indexes: https://pypi.org/simple, https://us-python.pkg.dev/colab-wheels/public/simple/\n",
            "Requirement already satisfied: PyPortfolioOpt in /usr/local/lib/python3.7/dist-packages (1.5.2)\n",
            "Requirement already satisfied: cvxpy<2.0.0,>=1.1.10 in /usr/local/lib/python3.7/dist-packages (from PyPortfolioOpt) (1.2.1)\n",
            "Requirement already satisfied: pandas>=0.19 in /usr/local/lib/python3.7/dist-packages (from PyPortfolioOpt) (1.3.5)\n",
            "Requirement already satisfied: scipy<2.0,>=1.3 in /usr/local/lib/python3.7/dist-packages (from PyPortfolioOpt) (1.7.3)\n",
            "Requirement already satisfied: numpy<2.0,>=1.12 in /usr/local/lib/python3.7/dist-packages (from PyPortfolioOpt) (1.21.6)\n",
            "Requirement already satisfied: ecos>=2 in /usr/local/lib/python3.7/dist-packages (from cvxpy<2.0.0,>=1.1.10->PyPortfolioOpt) (2.0.10)\n",
            "Requirement already satisfied: scs>=1.1.6 in /usr/local/lib/python3.7/dist-packages (from cvxpy<2.0.0,>=1.1.10->PyPortfolioOpt) (3.2.0)\n",
            "Requirement already satisfied: osqp>=0.4.1 in /usr/local/lib/python3.7/dist-packages (from cvxpy<2.0.0,>=1.1.10->PyPortfolioOpt) (0.6.2.post0)\n",
            "Requirement already satisfied: qdldl in /usr/local/lib/python3.7/dist-packages (from osqp>=0.4.1->cvxpy<2.0.0,>=1.1.10->PyPortfolioOpt) (0.1.5.post2)\n",
            "Requirement already satisfied: pytz>=2017.3 in /usr/local/lib/python3.7/dist-packages (from pandas>=0.19->PyPortfolioOpt) (2022.4)\n",
            "Requirement already satisfied: python-dateutil>=2.7.3 in /usr/local/lib/python3.7/dist-packages (from pandas>=0.19->PyPortfolioOpt) (2.8.2)\n",
            "Requirement already satisfied: six>=1.5 in /usr/local/lib/python3.7/dist-packages (from python-dateutil>=2.7.3->pandas>=0.19->PyPortfolioOpt) (1.15.0)\n"
          ]
        }
      ]
    },
    {
      "cell_type": "code",
      "source": [
        "data = yf.download(  # or pdr.get_data_yahoo(...\n",
        "        # tickers list or string as well\n",
        "        tickers = \"AAPL MSFT AMZN GOOGL META TSLA NVDA BRK-B JNJ UNH\",\n",
        "\n",
        "        # use \"period\" instead of start/end\n",
        "        # valid periods: 1d,5d,1mo,3mo,6mo,1y,2y,5y,10y,ytd,max\n",
        "        # (optional, default is '1mo')\n",
        "        period = \"max\",\n",
        "\n",
        "        # fetch data by interval (including intraday if period < 60 days)\n",
        "        # valid intervals: 1m,2m,5m,15m,30m,60m,90m,1h,1d,5d,1wk,1mo,3mo\n",
        "        # (optional, default is '1d')\n",
        "        # interval = \"1m\",\n",
        "\n",
        "        # Whether to ignore timezone when aligning ticker data from \n",
        "        # different timezones. Default is True. False may be useful for \n",
        "        # minute/hourly data.\n",
        "        ignore_tz = False,\n",
        "\n",
        "        # group by ticker (to access via data['SPY'])\n",
        "        # (optional, default is 'column')\n",
        "        group_by = 'ticker',\n",
        "\n",
        "        # adjust all OHLC automatically\n",
        "        # (optional, default is False)\n",
        "        auto_adjust = True,\n",
        "\n",
        "        # download pre/post regular market hours data\n",
        "        # (optional, default is False)\n",
        "        prepost = True,\n",
        "\n",
        "        # use threads for mass downloading? (True/False/Integer)\n",
        "        # (optional, default is True)\n",
        "        threads = True,\n",
        "\n",
        "        # proxy URL scheme use use when downloading?\n",
        "        # (optional, default is None)\n",
        "        proxy = None\n",
        "    )\n",
        "\n",
        "data = data.loc['2008-01-01':,:]\n",
        "data.index = pd.to_datetime(data.index.date)"
      ],
      "metadata": {
        "colab": {
          "base_uri": "https://localhost:8080/"
        },
        "id": "g0uGY-TZwdHU",
        "outputId": "286a65c7-3292-4a10-8a67-0cc0517357ad"
      },
      "execution_count": 23,
      "outputs": [
        {
          "output_type": "stream",
          "name": "stdout",
          "text": [
            "[*********************100%***********************]  10 of 10 completed\n"
          ]
        }
      ]
    },
    {
      "cell_type": "code",
      "source": [
        "ls_stocks = \"AAPL MSFT AMZN GOOGL META TSLA NVDA BRK-B JNJ UNH\".split(' ')\n",
        "\",\".join(ls_stocks)"
      ],
      "metadata": {
        "colab": {
          "base_uri": "https://localhost:8080/",
          "height": 35
        },
        "id": "L77v1msf3uS3",
        "outputId": "dbdaabb0-1e93-4335-e95b-53851ac8ad52"
      },
      "execution_count": 24,
      "outputs": [
        {
          "output_type": "execute_result",
          "data": {
            "text/plain": [
              "'AAPL,MSFT,AMZN,GOOGL,META,TSLA,NVDA,BRK-B,JNJ,UNH'"
            ],
            "application/vnd.google.colaboratory.intrinsic+json": {
              "type": "string"
            }
          },
          "metadata": {},
          "execution_count": 24
        }
      ]
    },
    {
      "cell_type": "code",
      "source": [
        "cls_price = data.loc[:,data.columns.get_level_values(1)=='Close']\n",
        "cls_price.columns = cls_price.columns.get_level_values(0)\n",
        "cls_price "
      ],
      "metadata": {
        "colab": {
          "base_uri": "https://localhost:8080/",
          "height": 424
        },
        "id": "e_B7iTP7pFTT",
        "outputId": "1989980a-5bf5-4501-8e3c-1839c6fa1656"
      },
      "execution_count": 45,
      "outputs": [
        {
          "output_type": "execute_result",
          "data": {
            "text/plain": [
              "                   UNH        AAPL        META       BRK-B        AMZN  \\\n",
              "2008-01-02   46.735245    5.941450         NaN   92.099998    4.812500   \n",
              "2008-01-03   46.949661    5.944195         NaN   93.000000    4.760500   \n",
              "2008-01-04   46.182709    5.490444         NaN   91.000000    4.439500   \n",
              "2008-01-07   46.908440    5.416954         NaN   88.760002    4.441000   \n",
              "2008-01-08   46.355888    5.222096         NaN   88.300003    4.394000   \n",
              "...                ...         ...         ...         ...         ...   \n",
              "2022-10-18  522.210022  143.750000  132.800003  281.670013  116.360001   \n",
              "2022-10-19  520.320007  143.860001  133.229996  278.339996  115.070000   \n",
              "2022-10-20  520.880005  143.389999  131.529999  273.529999  115.250000   \n",
              "2022-10-21  533.729980  147.270004  130.009995  282.510010  119.320000   \n",
              "2022-10-24  543.580017  148.270004  130.600296  286.829987  119.301003   \n",
              "\n",
              "                  MSFT       GOOGL        TSLA        NVDA         JNJ  \n",
              "2008-01-02   25.928686   17.146896         NaN    7.575687   42.707207  \n",
              "2008-01-03   26.039118   17.150400         NaN    7.516018   42.720169  \n",
              "2008-01-04   25.310276   16.441441         NaN    6.884903   42.661850  \n",
              "2008-01-07   25.479599   16.247498         NaN    6.173462   43.322777  \n",
              "2008-01-08   24.625626   15.807808         NaN    6.304276   43.374603  \n",
              "...                ...         ...         ...         ...         ...  \n",
              "2022-10-18  238.500000  100.769997  220.190002  119.669998  166.009995  \n",
              "2022-10-19  236.479996   99.629997  222.039993  120.510002  164.690002  \n",
              "2022-10-20  236.149994   99.970001  207.279999  121.940002  165.110001  \n",
              "2022-10-21  242.119995  101.129997  214.440002  124.660004  168.710007  \n",
              "2022-10-24  246.059998  101.930000  206.229996  125.029999  171.458099  \n",
              "\n",
              "[3730 rows x 10 columns]"
            ],
            "text/html": [
              "\n",
              "  <div id=\"df-5854c36c-665f-44c5-a2ca-7d042601e4b4\">\n",
              "    <div class=\"colab-df-container\">\n",
              "      <div>\n",
              "<style scoped>\n",
              "    .dataframe tbody tr th:only-of-type {\n",
              "        vertical-align: middle;\n",
              "    }\n",
              "\n",
              "    .dataframe tbody tr th {\n",
              "        vertical-align: top;\n",
              "    }\n",
              "\n",
              "    .dataframe thead th {\n",
              "        text-align: right;\n",
              "    }\n",
              "</style>\n",
              "<table border=\"1\" class=\"dataframe\">\n",
              "  <thead>\n",
              "    <tr style=\"text-align: right;\">\n",
              "      <th></th>\n",
              "      <th>UNH</th>\n",
              "      <th>AAPL</th>\n",
              "      <th>META</th>\n",
              "      <th>BRK-B</th>\n",
              "      <th>AMZN</th>\n",
              "      <th>MSFT</th>\n",
              "      <th>GOOGL</th>\n",
              "      <th>TSLA</th>\n",
              "      <th>NVDA</th>\n",
              "      <th>JNJ</th>\n",
              "    </tr>\n",
              "  </thead>\n",
              "  <tbody>\n",
              "    <tr>\n",
              "      <th>2008-01-02</th>\n",
              "      <td>46.735245</td>\n",
              "      <td>5.941450</td>\n",
              "      <td>NaN</td>\n",
              "      <td>92.099998</td>\n",
              "      <td>4.812500</td>\n",
              "      <td>25.928686</td>\n",
              "      <td>17.146896</td>\n",
              "      <td>NaN</td>\n",
              "      <td>7.575687</td>\n",
              "      <td>42.707207</td>\n",
              "    </tr>\n",
              "    <tr>\n",
              "      <th>2008-01-03</th>\n",
              "      <td>46.949661</td>\n",
              "      <td>5.944195</td>\n",
              "      <td>NaN</td>\n",
              "      <td>93.000000</td>\n",
              "      <td>4.760500</td>\n",
              "      <td>26.039118</td>\n",
              "      <td>17.150400</td>\n",
              "      <td>NaN</td>\n",
              "      <td>7.516018</td>\n",
              "      <td>42.720169</td>\n",
              "    </tr>\n",
              "    <tr>\n",
              "      <th>2008-01-04</th>\n",
              "      <td>46.182709</td>\n",
              "      <td>5.490444</td>\n",
              "      <td>NaN</td>\n",
              "      <td>91.000000</td>\n",
              "      <td>4.439500</td>\n",
              "      <td>25.310276</td>\n",
              "      <td>16.441441</td>\n",
              "      <td>NaN</td>\n",
              "      <td>6.884903</td>\n",
              "      <td>42.661850</td>\n",
              "    </tr>\n",
              "    <tr>\n",
              "      <th>2008-01-07</th>\n",
              "      <td>46.908440</td>\n",
              "      <td>5.416954</td>\n",
              "      <td>NaN</td>\n",
              "      <td>88.760002</td>\n",
              "      <td>4.441000</td>\n",
              "      <td>25.479599</td>\n",
              "      <td>16.247498</td>\n",
              "      <td>NaN</td>\n",
              "      <td>6.173462</td>\n",
              "      <td>43.322777</td>\n",
              "    </tr>\n",
              "    <tr>\n",
              "      <th>2008-01-08</th>\n",
              "      <td>46.355888</td>\n",
              "      <td>5.222096</td>\n",
              "      <td>NaN</td>\n",
              "      <td>88.300003</td>\n",
              "      <td>4.394000</td>\n",
              "      <td>24.625626</td>\n",
              "      <td>15.807808</td>\n",
              "      <td>NaN</td>\n",
              "      <td>6.304276</td>\n",
              "      <td>43.374603</td>\n",
              "    </tr>\n",
              "    <tr>\n",
              "      <th>...</th>\n",
              "      <td>...</td>\n",
              "      <td>...</td>\n",
              "      <td>...</td>\n",
              "      <td>...</td>\n",
              "      <td>...</td>\n",
              "      <td>...</td>\n",
              "      <td>...</td>\n",
              "      <td>...</td>\n",
              "      <td>...</td>\n",
              "      <td>...</td>\n",
              "    </tr>\n",
              "    <tr>\n",
              "      <th>2022-10-18</th>\n",
              "      <td>522.210022</td>\n",
              "      <td>143.750000</td>\n",
              "      <td>132.800003</td>\n",
              "      <td>281.670013</td>\n",
              "      <td>116.360001</td>\n",
              "      <td>238.500000</td>\n",
              "      <td>100.769997</td>\n",
              "      <td>220.190002</td>\n",
              "      <td>119.669998</td>\n",
              "      <td>166.009995</td>\n",
              "    </tr>\n",
              "    <tr>\n",
              "      <th>2022-10-19</th>\n",
              "      <td>520.320007</td>\n",
              "      <td>143.860001</td>\n",
              "      <td>133.229996</td>\n",
              "      <td>278.339996</td>\n",
              "      <td>115.070000</td>\n",
              "      <td>236.479996</td>\n",
              "      <td>99.629997</td>\n",
              "      <td>222.039993</td>\n",
              "      <td>120.510002</td>\n",
              "      <td>164.690002</td>\n",
              "    </tr>\n",
              "    <tr>\n",
              "      <th>2022-10-20</th>\n",
              "      <td>520.880005</td>\n",
              "      <td>143.389999</td>\n",
              "      <td>131.529999</td>\n",
              "      <td>273.529999</td>\n",
              "      <td>115.250000</td>\n",
              "      <td>236.149994</td>\n",
              "      <td>99.970001</td>\n",
              "      <td>207.279999</td>\n",
              "      <td>121.940002</td>\n",
              "      <td>165.110001</td>\n",
              "    </tr>\n",
              "    <tr>\n",
              "      <th>2022-10-21</th>\n",
              "      <td>533.729980</td>\n",
              "      <td>147.270004</td>\n",
              "      <td>130.009995</td>\n",
              "      <td>282.510010</td>\n",
              "      <td>119.320000</td>\n",
              "      <td>242.119995</td>\n",
              "      <td>101.129997</td>\n",
              "      <td>214.440002</td>\n",
              "      <td>124.660004</td>\n",
              "      <td>168.710007</td>\n",
              "    </tr>\n",
              "    <tr>\n",
              "      <th>2022-10-24</th>\n",
              "      <td>543.580017</td>\n",
              "      <td>148.270004</td>\n",
              "      <td>130.600296</td>\n",
              "      <td>286.829987</td>\n",
              "      <td>119.301003</td>\n",
              "      <td>246.059998</td>\n",
              "      <td>101.930000</td>\n",
              "      <td>206.229996</td>\n",
              "      <td>125.029999</td>\n",
              "      <td>171.458099</td>\n",
              "    </tr>\n",
              "  </tbody>\n",
              "</table>\n",
              "<p>3730 rows × 10 columns</p>\n",
              "</div>\n",
              "      <button class=\"colab-df-convert\" onclick=\"convertToInteractive('df-5854c36c-665f-44c5-a2ca-7d042601e4b4')\"\n",
              "              title=\"Convert this dataframe to an interactive table.\"\n",
              "              style=\"display:none;\">\n",
              "        \n",
              "  <svg xmlns=\"http://www.w3.org/2000/svg\" height=\"24px\"viewBox=\"0 0 24 24\"\n",
              "       width=\"24px\">\n",
              "    <path d=\"M0 0h24v24H0V0z\" fill=\"none\"/>\n",
              "    <path d=\"M18.56 5.44l.94 2.06.94-2.06 2.06-.94-2.06-.94-.94-2.06-.94 2.06-2.06.94zm-11 1L8.5 8.5l.94-2.06 2.06-.94-2.06-.94L8.5 2.5l-.94 2.06-2.06.94zm10 10l.94 2.06.94-2.06 2.06-.94-2.06-.94-.94-2.06-.94 2.06-2.06.94z\"/><path d=\"M17.41 7.96l-1.37-1.37c-.4-.4-.92-.59-1.43-.59-.52 0-1.04.2-1.43.59L10.3 9.45l-7.72 7.72c-.78.78-.78 2.05 0 2.83L4 21.41c.39.39.9.59 1.41.59.51 0 1.02-.2 1.41-.59l7.78-7.78 2.81-2.81c.8-.78.8-2.07 0-2.86zM5.41 20L4 18.59l7.72-7.72 1.47 1.35L5.41 20z\"/>\n",
              "  </svg>\n",
              "      </button>\n",
              "      \n",
              "  <style>\n",
              "    .colab-df-container {\n",
              "      display:flex;\n",
              "      flex-wrap:wrap;\n",
              "      gap: 12px;\n",
              "    }\n",
              "\n",
              "    .colab-df-convert {\n",
              "      background-color: #E8F0FE;\n",
              "      border: none;\n",
              "      border-radius: 50%;\n",
              "      cursor: pointer;\n",
              "      display: none;\n",
              "      fill: #1967D2;\n",
              "      height: 32px;\n",
              "      padding: 0 0 0 0;\n",
              "      width: 32px;\n",
              "    }\n",
              "\n",
              "    .colab-df-convert:hover {\n",
              "      background-color: #E2EBFA;\n",
              "      box-shadow: 0px 1px 2px rgba(60, 64, 67, 0.3), 0px 1px 3px 1px rgba(60, 64, 67, 0.15);\n",
              "      fill: #174EA6;\n",
              "    }\n",
              "\n",
              "    [theme=dark] .colab-df-convert {\n",
              "      background-color: #3B4455;\n",
              "      fill: #D2E3FC;\n",
              "    }\n",
              "\n",
              "    [theme=dark] .colab-df-convert:hover {\n",
              "      background-color: #434B5C;\n",
              "      box-shadow: 0px 1px 3px 1px rgba(0, 0, 0, 0.15);\n",
              "      filter: drop-shadow(0px 1px 2px rgba(0, 0, 0, 0.3));\n",
              "      fill: #FFFFFF;\n",
              "    }\n",
              "  </style>\n",
              "\n",
              "      <script>\n",
              "        const buttonEl =\n",
              "          document.querySelector('#df-5854c36c-665f-44c5-a2ca-7d042601e4b4 button.colab-df-convert');\n",
              "        buttonEl.style.display =\n",
              "          google.colab.kernel.accessAllowed ? 'block' : 'none';\n",
              "\n",
              "        async function convertToInteractive(key) {\n",
              "          const element = document.querySelector('#df-5854c36c-665f-44c5-a2ca-7d042601e4b4');\n",
              "          const dataTable =\n",
              "            await google.colab.kernel.invokeFunction('convertToInteractive',\n",
              "                                                     [key], {});\n",
              "          if (!dataTable) return;\n",
              "\n",
              "          const docLinkHtml = 'Like what you see? Visit the ' +\n",
              "            '<a target=\"_blank\" href=https://colab.research.google.com/notebooks/data_table.ipynb>data table notebook</a>'\n",
              "            + ' to learn more about interactive tables.';\n",
              "          element.innerHTML = '';\n",
              "          dataTable['output_type'] = 'display_data';\n",
              "          await google.colab.output.renderOutput(dataTable, element);\n",
              "          const docLink = document.createElement('div');\n",
              "          docLink.innerHTML = docLinkHtml;\n",
              "          element.appendChild(docLink);\n",
              "        }\n",
              "      </script>\n",
              "    </div>\n",
              "  </div>\n",
              "  "
            ]
          },
          "metadata": {},
          "execution_count": 45
        }
      ]
    },
    {
      "cell_type": "code",
      "source": [
        "mu = expected_returns.mean_historical_return(cls_price)\n",
        "cov = risk_models.sample_cov(cls_price)\n",
        "ef = EfficientFrontier(mu, cov)\n",
        "weights = ef.max_sharpe()\n",
        "ef.portfolio_performance(verbose=True)"
      ],
      "metadata": {
        "colab": {
          "base_uri": "https://localhost:8080/"
        },
        "id": "f42DJaAryEDA",
        "outputId": "d4bf7c50-f23f-43b8-b0e7-adbea9599bf9"
      },
      "execution_count": 66,
      "outputs": [
        {
          "output_type": "stream",
          "name": "stdout",
          "text": [
            "Expected annual return: 29.1%\n",
            "Annual volatility: 27.9%\n",
            "Sharpe Ratio: 0.97\n"
          ]
        },
        {
          "output_type": "execute_result",
          "data": {
            "text/plain": [
              "(0.2914132173373965, 0.2788612993316328, 0.973291087676606)"
            ]
          },
          "metadata": {},
          "execution_count": 66
        }
      ]
    },
    {
      "cell_type": "code",
      "source": [
        "log_returns = cls_price.pct_change().apply(lambda x: np.log(1+x))\n",
        "cov_matrix = log_returns.cov()\n",
        "corr_matrix = log_returns.corr()\n"
      ],
      "metadata": {
        "id": "5bxO1slL0CPB"
      },
      "execution_count": 56,
      "outputs": []
    },
    {
      "cell_type": "code",
      "source": [
        "cls_price.columns"
      ],
      "metadata": {
        "colab": {
          "base_uri": "https://localhost:8080/"
        },
        "id": "AWmQzq-a1yuF",
        "outputId": "ecbfdb05-283c-4ce6-faa7-a316c0561ec1"
      },
      "execution_count": 59,
      "outputs": [
        {
          "output_type": "execute_result",
          "data": {
            "text/plain": [
              "Index(['UNH', 'AAPL', 'META', 'BRK-B', 'AMZN', 'MSFT', 'GOOGL', 'TSLA', 'NVDA',\n",
              "       'JNJ'],\n",
              "      dtype='object')"
            ]
          },
          "metadata": {},
          "execution_count": 59
        }
      ]
    },
    {
      "cell_type": "code",
      "source": [
        "w = {i:weights[i] for i in weights}\n",
        "port_var = cov_matrix.mul(w, axis=0).mul(w, axis=1).sum().sum()\n",
        "(port_var*250)**0.5"
      ],
      "metadata": {
        "colab": {
          "base_uri": "https://localhost:8080/"
        },
        "id": "sL0txZDAzPEI",
        "outputId": "f2c46733-9f3f-4d3a-ea7f-d4ca2e660ae1"
      },
      "execution_count": 71,
      "outputs": [
        {
          "output_type": "execute_result",
          "data": {
            "text/plain": [
              "0.27768605558488035"
            ]
          },
          "metadata": {},
          "execution_count": 71
        }
      ]
    },
    {
      "cell_type": "code",
      "source": [],
      "metadata": {
        "id": "OoT3RMO82tnA"
      },
      "execution_count": null,
      "outputs": []
    },
    {
      "cell_type": "code",
      "source": [
        "rebalancing_dates = data.resample('M').apply(lambda x: x[-1]).index\n",
        "rebalancing_dates[0]"
      ],
      "metadata": {
        "colab": {
          "base_uri": "https://localhost:8080/"
        },
        "id": "pXS0CXokysEP",
        "outputId": "1ff1fac0-c736-4c10-fe5a-0a5f947fc82a"
      },
      "execution_count": 116,
      "outputs": [
        {
          "output_type": "execute_result",
          "data": {
            "text/plain": [
              "Timestamp('2008-01-31 00:00:00', freq='M')"
            ]
          },
          "metadata": {},
          "execution_count": 116
        }
      ]
    },
    {
      "cell_type": "code",
      "source": [
        "data.loc['2008-01-31'].pct_change()\n",
        "np.log(data.loc['2008-01-31']) - np.log(data.loc['2008-01-31'].shift(1))"
      ],
      "metadata": {
        "colab": {
          "base_uri": "https://localhost:8080/"
        },
        "id": "k8DGU_Qo5mBI",
        "outputId": "fcde75a6-b4dd-4467-c4cf-ca350ecc890a"
      },
      "execution_count": 117,
      "outputs": [
        {
          "output_type": "execute_result",
          "data": {
            "text/plain": [
              "TSLA   Open            NaN\n",
              "       High            NaN\n",
              "       Low             NaN\n",
              "       Close           NaN\n",
              "       Volume          NaN\n",
              "AMZN   Open            NaN\n",
              "       High       0.135000\n",
              "       Low       -0.136016\n",
              "       Close      0.121070\n",
              "       Volume    19.212663\n",
              "NVDA   Open     -18.837281\n",
              "       High       0.016503\n",
              "       Low       -0.049929\n",
              "       Close      0.031395\n",
              "       Volume    16.160382\n",
              "UNH    Open     -14.170180\n",
              "       High       0.020754\n",
              "       Low       -0.035846\n",
              "       Close      0.030354\n",
              "       Volume    12.203259\n",
              "JNJ    Open     -12.248245\n",
              "       High       0.024432\n",
              "       Low       -0.026698\n",
              "       Close      0.022746\n",
              "       Volume    13.161574\n",
              "MSFT   Open     -13.716350\n",
              "       High       0.025678\n",
              "       Low       -0.031650\n",
              "       Close      0.027365\n",
              "       Volume    15.278407\n",
              "GOOGL  Open     -15.854600\n",
              "       High       0.061152\n",
              "       Low       -0.069947\n",
              "       Close      0.054647\n",
              "       Volume    17.555116\n",
              "BRK-B  Open     -15.657403\n",
              "       High       0.000000\n",
              "       Low       -0.034561\n",
              "       Close      0.000000\n",
              "       Volume     9.683087\n",
              "META   Open            NaN\n",
              "       High            NaN\n",
              "       Low             NaN\n",
              "       Close           NaN\n",
              "       Volume          NaN\n",
              "AAPL   Open            NaN\n",
              "       High       0.054128\n",
              "       Low       -0.054514\n",
              "       Close      0.045030\n",
              "       Volume    19.602449\n",
              "Name: 2008-01-31 00:00:00, dtype: float64"
            ]
          },
          "metadata": {},
          "execution_count": 117
        }
      ]
    },
    {
      "cell_type": "code",
      "source": [
        "def get_closing_values(data :pd.DataFrame, \n",
        "                       date: str\n",
        "                       ) -> pd.DataFrame:\n",
        "                       limited_data = data.loc[ date,:]\n",
        "                       limited_data = limited_data.loc[limited_data.index.get_level_values(1)=='Close',:]\n",
        "                       limited_data.index = [i[0] for i in limited_data.index]\n",
        "                       return pd.DataFrame(limited_data.loc[ls_stocks])"
      ],
      "metadata": {
        "id": "uCyQHoCeStcy"
      },
      "execution_count": 120,
      "outputs": []
    },
    {
      "cell_type": "code",
      "source": [
        "ls_stocks\n",
        "port_wt = {i: round(1/(1+len(ls_stocks)),3) for i in ls_stocks}\n",
        "port_wt = pd.DataFrame({i:[j] for (i,j) in port_wt.items()}).T "
      ],
      "metadata": {
        "id": "U2-ZKRAzpTd6"
      },
      "execution_count": 72,
      "outputs": []
    },
    {
      "cell_type": "code",
      "source": [
        "port_wt.T "
      ],
      "metadata": {
        "colab": {
          "base_uri": "https://localhost:8080/",
          "height": 81
        },
        "id": "CI2AlND1qdps",
        "outputId": "19652554-4e67-4030-e8c3-2b8c06046177"
      },
      "execution_count": 73,
      "outputs": [
        {
          "output_type": "execute_result",
          "data": {
            "text/plain": [
              "    AAPL   MSFT   AMZN  GOOGL   META   TSLA   NVDA  BRK-B    JNJ    UNH\n",
              "0  0.091  0.091  0.091  0.091  0.091  0.091  0.091  0.091  0.091  0.091"
            ],
            "text/html": [
              "\n",
              "  <div id=\"df-9ff7e15f-9f17-4846-a05a-f617103ff8a6\">\n",
              "    <div class=\"colab-df-container\">\n",
              "      <div>\n",
              "<style scoped>\n",
              "    .dataframe tbody tr th:only-of-type {\n",
              "        vertical-align: middle;\n",
              "    }\n",
              "\n",
              "    .dataframe tbody tr th {\n",
              "        vertical-align: top;\n",
              "    }\n",
              "\n",
              "    .dataframe thead th {\n",
              "        text-align: right;\n",
              "    }\n",
              "</style>\n",
              "<table border=\"1\" class=\"dataframe\">\n",
              "  <thead>\n",
              "    <tr style=\"text-align: right;\">\n",
              "      <th></th>\n",
              "      <th>AAPL</th>\n",
              "      <th>MSFT</th>\n",
              "      <th>AMZN</th>\n",
              "      <th>GOOGL</th>\n",
              "      <th>META</th>\n",
              "      <th>TSLA</th>\n",
              "      <th>NVDA</th>\n",
              "      <th>BRK-B</th>\n",
              "      <th>JNJ</th>\n",
              "      <th>UNH</th>\n",
              "    </tr>\n",
              "  </thead>\n",
              "  <tbody>\n",
              "    <tr>\n",
              "      <th>0</th>\n",
              "      <td>0.091</td>\n",
              "      <td>0.091</td>\n",
              "      <td>0.091</td>\n",
              "      <td>0.091</td>\n",
              "      <td>0.091</td>\n",
              "      <td>0.091</td>\n",
              "      <td>0.091</td>\n",
              "      <td>0.091</td>\n",
              "      <td>0.091</td>\n",
              "      <td>0.091</td>\n",
              "    </tr>\n",
              "  </tbody>\n",
              "</table>\n",
              "</div>\n",
              "      <button class=\"colab-df-convert\" onclick=\"convertToInteractive('df-9ff7e15f-9f17-4846-a05a-f617103ff8a6')\"\n",
              "              title=\"Convert this dataframe to an interactive table.\"\n",
              "              style=\"display:none;\">\n",
              "        \n",
              "  <svg xmlns=\"http://www.w3.org/2000/svg\" height=\"24px\"viewBox=\"0 0 24 24\"\n",
              "       width=\"24px\">\n",
              "    <path d=\"M0 0h24v24H0V0z\" fill=\"none\"/>\n",
              "    <path d=\"M18.56 5.44l.94 2.06.94-2.06 2.06-.94-2.06-.94-.94-2.06-.94 2.06-2.06.94zm-11 1L8.5 8.5l.94-2.06 2.06-.94-2.06-.94L8.5 2.5l-.94 2.06-2.06.94zm10 10l.94 2.06.94-2.06 2.06-.94-2.06-.94-.94-2.06-.94 2.06-2.06.94z\"/><path d=\"M17.41 7.96l-1.37-1.37c-.4-.4-.92-.59-1.43-.59-.52 0-1.04.2-1.43.59L10.3 9.45l-7.72 7.72c-.78.78-.78 2.05 0 2.83L4 21.41c.39.39.9.59 1.41.59.51 0 1.02-.2 1.41-.59l7.78-7.78 2.81-2.81c.8-.78.8-2.07 0-2.86zM5.41 20L4 18.59l7.72-7.72 1.47 1.35L5.41 20z\"/>\n",
              "  </svg>\n",
              "      </button>\n",
              "      \n",
              "  <style>\n",
              "    .colab-df-container {\n",
              "      display:flex;\n",
              "      flex-wrap:wrap;\n",
              "      gap: 12px;\n",
              "    }\n",
              "\n",
              "    .colab-df-convert {\n",
              "      background-color: #E8F0FE;\n",
              "      border: none;\n",
              "      border-radius: 50%;\n",
              "      cursor: pointer;\n",
              "      display: none;\n",
              "      fill: #1967D2;\n",
              "      height: 32px;\n",
              "      padding: 0 0 0 0;\n",
              "      width: 32px;\n",
              "    }\n",
              "\n",
              "    .colab-df-convert:hover {\n",
              "      background-color: #E2EBFA;\n",
              "      box-shadow: 0px 1px 2px rgba(60, 64, 67, 0.3), 0px 1px 3px 1px rgba(60, 64, 67, 0.15);\n",
              "      fill: #174EA6;\n",
              "    }\n",
              "\n",
              "    [theme=dark] .colab-df-convert {\n",
              "      background-color: #3B4455;\n",
              "      fill: #D2E3FC;\n",
              "    }\n",
              "\n",
              "    [theme=dark] .colab-df-convert:hover {\n",
              "      background-color: #434B5C;\n",
              "      box-shadow: 0px 1px 3px 1px rgba(0, 0, 0, 0.15);\n",
              "      filter: drop-shadow(0px 1px 2px rgba(0, 0, 0, 0.3));\n",
              "      fill: #FFFFFF;\n",
              "    }\n",
              "  </style>\n",
              "\n",
              "      <script>\n",
              "        const buttonEl =\n",
              "          document.querySelector('#df-9ff7e15f-9f17-4846-a05a-f617103ff8a6 button.colab-df-convert');\n",
              "        buttonEl.style.display =\n",
              "          google.colab.kernel.accessAllowed ? 'block' : 'none';\n",
              "\n",
              "        async function convertToInteractive(key) {\n",
              "          const element = document.querySelector('#df-9ff7e15f-9f17-4846-a05a-f617103ff8a6');\n",
              "          const dataTable =\n",
              "            await google.colab.kernel.invokeFunction('convertToInteractive',\n",
              "                                                     [key], {});\n",
              "          if (!dataTable) return;\n",
              "\n",
              "          const docLinkHtml = 'Like what you see? Visit the ' +\n",
              "            '<a target=\"_blank\" href=https://colab.research.google.com/notebooks/data_table.ipynb>data table notebook</a>'\n",
              "            + ' to learn more about interactive tables.';\n",
              "          element.innerHTML = '';\n",
              "          dataTable['output_type'] = 'display_data';\n",
              "          await google.colab.output.renderOutput(dataTable, element);\n",
              "          const docLink = document.createElement('div');\n",
              "          docLink.innerHTML = docLinkHtml;\n",
              "          element.appendChild(docLink);\n",
              "        }\n",
              "      </script>\n",
              "    </div>\n",
              "  </div>\n",
              "  "
            ]
          },
          "metadata": {},
          "execution_count": 73
        }
      ]
    },
    {
      "cell_type": "code",
      "source": [
        "check = get_closing_values(data, '2016-01-21')\n",
        "check.T.reset_index(drop=True)"
      ],
      "metadata": {
        "colab": {
          "base_uri": "https://localhost:8080/",
          "height": 81
        },
        "id": "Ot_eJ8bLUPb7",
        "outputId": "a2d1284b-2d14-4367-cc2d-30e86bd5ffef"
      },
      "execution_count": 123,
      "outputs": [
        {
          "output_type": "execute_result",
          "data": {
            "text/plain": [
              "        AAPL       MSFT       AMZN    GOOGL       META       TSLA      NVDA  \\\n",
              "0  22.076778  45.385151  28.750999  36.3335  94.160004  13.331333  6.789661   \n",
              "\n",
              "        BRK-B        JNJ         UNH  \n",
              "0  125.620003  80.192268  102.458839  "
            ],
            "text/html": [
              "\n",
              "  <div id=\"df-0791c0c3-0d3d-4fd3-b045-1e8f74c1096b\">\n",
              "    <div class=\"colab-df-container\">\n",
              "      <div>\n",
              "<style scoped>\n",
              "    .dataframe tbody tr th:only-of-type {\n",
              "        vertical-align: middle;\n",
              "    }\n",
              "\n",
              "    .dataframe tbody tr th {\n",
              "        vertical-align: top;\n",
              "    }\n",
              "\n",
              "    .dataframe thead th {\n",
              "        text-align: right;\n",
              "    }\n",
              "</style>\n",
              "<table border=\"1\" class=\"dataframe\">\n",
              "  <thead>\n",
              "    <tr style=\"text-align: right;\">\n",
              "      <th></th>\n",
              "      <th>AAPL</th>\n",
              "      <th>MSFT</th>\n",
              "      <th>AMZN</th>\n",
              "      <th>GOOGL</th>\n",
              "      <th>META</th>\n",
              "      <th>TSLA</th>\n",
              "      <th>NVDA</th>\n",
              "      <th>BRK-B</th>\n",
              "      <th>JNJ</th>\n",
              "      <th>UNH</th>\n",
              "    </tr>\n",
              "  </thead>\n",
              "  <tbody>\n",
              "    <tr>\n",
              "      <th>0</th>\n",
              "      <td>22.076778</td>\n",
              "      <td>45.385151</td>\n",
              "      <td>28.750999</td>\n",
              "      <td>36.3335</td>\n",
              "      <td>94.160004</td>\n",
              "      <td>13.331333</td>\n",
              "      <td>6.789661</td>\n",
              "      <td>125.620003</td>\n",
              "      <td>80.192268</td>\n",
              "      <td>102.458839</td>\n",
              "    </tr>\n",
              "  </tbody>\n",
              "</table>\n",
              "</div>\n",
              "      <button class=\"colab-df-convert\" onclick=\"convertToInteractive('df-0791c0c3-0d3d-4fd3-b045-1e8f74c1096b')\"\n",
              "              title=\"Convert this dataframe to an interactive table.\"\n",
              "              style=\"display:none;\">\n",
              "        \n",
              "  <svg xmlns=\"http://www.w3.org/2000/svg\" height=\"24px\"viewBox=\"0 0 24 24\"\n",
              "       width=\"24px\">\n",
              "    <path d=\"M0 0h24v24H0V0z\" fill=\"none\"/>\n",
              "    <path d=\"M18.56 5.44l.94 2.06.94-2.06 2.06-.94-2.06-.94-.94-2.06-.94 2.06-2.06.94zm-11 1L8.5 8.5l.94-2.06 2.06-.94-2.06-.94L8.5 2.5l-.94 2.06-2.06.94zm10 10l.94 2.06.94-2.06 2.06-.94-2.06-.94-.94-2.06-.94 2.06-2.06.94z\"/><path d=\"M17.41 7.96l-1.37-1.37c-.4-.4-.92-.59-1.43-.59-.52 0-1.04.2-1.43.59L10.3 9.45l-7.72 7.72c-.78.78-.78 2.05 0 2.83L4 21.41c.39.39.9.59 1.41.59.51 0 1.02-.2 1.41-.59l7.78-7.78 2.81-2.81c.8-.78.8-2.07 0-2.86zM5.41 20L4 18.59l7.72-7.72 1.47 1.35L5.41 20z\"/>\n",
              "  </svg>\n",
              "      </button>\n",
              "      \n",
              "  <style>\n",
              "    .colab-df-container {\n",
              "      display:flex;\n",
              "      flex-wrap:wrap;\n",
              "      gap: 12px;\n",
              "    }\n",
              "\n",
              "    .colab-df-convert {\n",
              "      background-color: #E8F0FE;\n",
              "      border: none;\n",
              "      border-radius: 50%;\n",
              "      cursor: pointer;\n",
              "      display: none;\n",
              "      fill: #1967D2;\n",
              "      height: 32px;\n",
              "      padding: 0 0 0 0;\n",
              "      width: 32px;\n",
              "    }\n",
              "\n",
              "    .colab-df-convert:hover {\n",
              "      background-color: #E2EBFA;\n",
              "      box-shadow: 0px 1px 2px rgba(60, 64, 67, 0.3), 0px 1px 3px 1px rgba(60, 64, 67, 0.15);\n",
              "      fill: #174EA6;\n",
              "    }\n",
              "\n",
              "    [theme=dark] .colab-df-convert {\n",
              "      background-color: #3B4455;\n",
              "      fill: #D2E3FC;\n",
              "    }\n",
              "\n",
              "    [theme=dark] .colab-df-convert:hover {\n",
              "      background-color: #434B5C;\n",
              "      box-shadow: 0px 1px 3px 1px rgba(0, 0, 0, 0.15);\n",
              "      filter: drop-shadow(0px 1px 2px rgba(0, 0, 0, 0.3));\n",
              "      fill: #FFFFFF;\n",
              "    }\n",
              "  </style>\n",
              "\n",
              "      <script>\n",
              "        const buttonEl =\n",
              "          document.querySelector('#df-0791c0c3-0d3d-4fd3-b045-1e8f74c1096b button.colab-df-convert');\n",
              "        buttonEl.style.display =\n",
              "          google.colab.kernel.accessAllowed ? 'block' : 'none';\n",
              "\n",
              "        async function convertToInteractive(key) {\n",
              "          const element = document.querySelector('#df-0791c0c3-0d3d-4fd3-b045-1e8f74c1096b');\n",
              "          const dataTable =\n",
              "            await google.colab.kernel.invokeFunction('convertToInteractive',\n",
              "                                                     [key], {});\n",
              "          if (!dataTable) return;\n",
              "\n",
              "          const docLinkHtml = 'Like what you see? Visit the ' +\n",
              "            '<a target=\"_blank\" href=https://colab.research.google.com/notebooks/data_table.ipynb>data table notebook</a>'\n",
              "            + ' to learn more about interactive tables.';\n",
              "          element.innerHTML = '';\n",
              "          dataTable['output_type'] = 'display_data';\n",
              "          await google.colab.output.renderOutput(dataTable, element);\n",
              "          const docLink = document.createElement('div');\n",
              "          docLink.innerHTML = docLinkHtml;\n",
              "          element.appendChild(docLink);\n",
              "        }\n",
              "      </script>\n",
              "    </div>\n",
              "  </div>\n",
              "  "
            ]
          },
          "metadata": {},
          "execution_count": 123
        }
      ]
    },
    {
      "cell_type": "code",
      "source": [
        "tot_value = port_wt.T   * check.T.reset_index(drop=True)"
      ],
      "metadata": {
        "id": "H__boolKrMym"
      },
      "execution_count": 124,
      "outputs": []
    },
    {
      "cell_type": "code",
      "source": [
        "tot_value"
      ],
      "metadata": {
        "colab": {
          "base_uri": "https://localhost:8080/",
          "height": 81
        },
        "id": "yUrIMsVnrgkM",
        "outputId": "00920448-0f3f-4b7b-b402-9299ecf555c0"
      },
      "execution_count": 125,
      "outputs": [
        {
          "output_type": "execute_result",
          "data": {
            "text/plain": [
              "       AAPL      MSFT      AMZN     GOOGL     META      TSLA      NVDA  \\\n",
              "0  2.008987  4.130049  2.616341  3.306348  8.56856  1.213151  0.617859   \n",
              "\n",
              "      BRK-B       JNJ       UNH  \n",
              "0  11.43142  7.297496  9.323754  "
            ],
            "text/html": [
              "\n",
              "  <div id=\"df-98245145-4a66-4ea0-91fe-4ea65f3786f0\">\n",
              "    <div class=\"colab-df-container\">\n",
              "      <div>\n",
              "<style scoped>\n",
              "    .dataframe tbody tr th:only-of-type {\n",
              "        vertical-align: middle;\n",
              "    }\n",
              "\n",
              "    .dataframe tbody tr th {\n",
              "        vertical-align: top;\n",
              "    }\n",
              "\n",
              "    .dataframe thead th {\n",
              "        text-align: right;\n",
              "    }\n",
              "</style>\n",
              "<table border=\"1\" class=\"dataframe\">\n",
              "  <thead>\n",
              "    <tr style=\"text-align: right;\">\n",
              "      <th></th>\n",
              "      <th>AAPL</th>\n",
              "      <th>MSFT</th>\n",
              "      <th>AMZN</th>\n",
              "      <th>GOOGL</th>\n",
              "      <th>META</th>\n",
              "      <th>TSLA</th>\n",
              "      <th>NVDA</th>\n",
              "      <th>BRK-B</th>\n",
              "      <th>JNJ</th>\n",
              "      <th>UNH</th>\n",
              "    </tr>\n",
              "  </thead>\n",
              "  <tbody>\n",
              "    <tr>\n",
              "      <th>0</th>\n",
              "      <td>2.008987</td>\n",
              "      <td>4.130049</td>\n",
              "      <td>2.616341</td>\n",
              "      <td>3.306348</td>\n",
              "      <td>8.56856</td>\n",
              "      <td>1.213151</td>\n",
              "      <td>0.617859</td>\n",
              "      <td>11.43142</td>\n",
              "      <td>7.297496</td>\n",
              "      <td>9.323754</td>\n",
              "    </tr>\n",
              "  </tbody>\n",
              "</table>\n",
              "</div>\n",
              "      <button class=\"colab-df-convert\" onclick=\"convertToInteractive('df-98245145-4a66-4ea0-91fe-4ea65f3786f0')\"\n",
              "              title=\"Convert this dataframe to an interactive table.\"\n",
              "              style=\"display:none;\">\n",
              "        \n",
              "  <svg xmlns=\"http://www.w3.org/2000/svg\" height=\"24px\"viewBox=\"0 0 24 24\"\n",
              "       width=\"24px\">\n",
              "    <path d=\"M0 0h24v24H0V0z\" fill=\"none\"/>\n",
              "    <path d=\"M18.56 5.44l.94 2.06.94-2.06 2.06-.94-2.06-.94-.94-2.06-.94 2.06-2.06.94zm-11 1L8.5 8.5l.94-2.06 2.06-.94-2.06-.94L8.5 2.5l-.94 2.06-2.06.94zm10 10l.94 2.06.94-2.06 2.06-.94-2.06-.94-.94-2.06-.94 2.06-2.06.94z\"/><path d=\"M17.41 7.96l-1.37-1.37c-.4-.4-.92-.59-1.43-.59-.52 0-1.04.2-1.43.59L10.3 9.45l-7.72 7.72c-.78.78-.78 2.05 0 2.83L4 21.41c.39.39.9.59 1.41.59.51 0 1.02-.2 1.41-.59l7.78-7.78 2.81-2.81c.8-.78.8-2.07 0-2.86zM5.41 20L4 18.59l7.72-7.72 1.47 1.35L5.41 20z\"/>\n",
              "  </svg>\n",
              "      </button>\n",
              "      \n",
              "  <style>\n",
              "    .colab-df-container {\n",
              "      display:flex;\n",
              "      flex-wrap:wrap;\n",
              "      gap: 12px;\n",
              "    }\n",
              "\n",
              "    .colab-df-convert {\n",
              "      background-color: #E8F0FE;\n",
              "      border: none;\n",
              "      border-radius: 50%;\n",
              "      cursor: pointer;\n",
              "      display: none;\n",
              "      fill: #1967D2;\n",
              "      height: 32px;\n",
              "      padding: 0 0 0 0;\n",
              "      width: 32px;\n",
              "    }\n",
              "\n",
              "    .colab-df-convert:hover {\n",
              "      background-color: #E2EBFA;\n",
              "      box-shadow: 0px 1px 2px rgba(60, 64, 67, 0.3), 0px 1px 3px 1px rgba(60, 64, 67, 0.15);\n",
              "      fill: #174EA6;\n",
              "    }\n",
              "\n",
              "    [theme=dark] .colab-df-convert {\n",
              "      background-color: #3B4455;\n",
              "      fill: #D2E3FC;\n",
              "    }\n",
              "\n",
              "    [theme=dark] .colab-df-convert:hover {\n",
              "      background-color: #434B5C;\n",
              "      box-shadow: 0px 1px 3px 1px rgba(0, 0, 0, 0.15);\n",
              "      filter: drop-shadow(0px 1px 2px rgba(0, 0, 0, 0.3));\n",
              "      fill: #FFFFFF;\n",
              "    }\n",
              "  </style>\n",
              "\n",
              "      <script>\n",
              "        const buttonEl =\n",
              "          document.querySelector('#df-98245145-4a66-4ea0-91fe-4ea65f3786f0 button.colab-df-convert');\n",
              "        buttonEl.style.display =\n",
              "          google.colab.kernel.accessAllowed ? 'block' : 'none';\n",
              "\n",
              "        async function convertToInteractive(key) {\n",
              "          const element = document.querySelector('#df-98245145-4a66-4ea0-91fe-4ea65f3786f0');\n",
              "          const dataTable =\n",
              "            await google.colab.kernel.invokeFunction('convertToInteractive',\n",
              "                                                     [key], {});\n",
              "          if (!dataTable) return;\n",
              "\n",
              "          const docLinkHtml = 'Like what you see? Visit the ' +\n",
              "            '<a target=\"_blank\" href=https://colab.research.google.com/notebooks/data_table.ipynb>data table notebook</a>'\n",
              "            + ' to learn more about interactive tables.';\n",
              "          element.innerHTML = '';\n",
              "          dataTable['output_type'] = 'display_data';\n",
              "          await google.colab.output.renderOutput(dataTable, element);\n",
              "          const docLink = document.createElement('div');\n",
              "          docLink.innerHTML = docLinkHtml;\n",
              "          element.appendChild(docLink);\n",
              "        }\n",
              "      </script>\n",
              "    </div>\n",
              "  </div>\n",
              "  "
            ]
          },
          "metadata": {},
          "execution_count": 125
        }
      ]
    }
  ]
}